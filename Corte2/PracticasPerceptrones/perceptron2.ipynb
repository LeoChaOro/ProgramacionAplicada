{
  "nbformat": 4,
  "nbformat_minor": 0,
  "metadata": {
    "colab": {
      "provenance": []
    },
    "kernelspec": {
      "name": "python3",
      "display_name": "Python 3"
    },
    "language_info": {
      "name": "python"
    }
  },
  "cells": [
    {
      "cell_type": "code",
      "execution_count": null,
      "metadata": {
        "colab": {
          "base_uri": "https://localhost:8080/"
        },
        "id": "BrjbwyaNdCu2",
        "outputId": "575206fc-9f3c-46c0-97ad-2ad18de04c84"
      },
      "outputs": [
        {
          "output_type": "stream",
          "name": "stdout",
          "text": [
            " Weigth:2.95 Cost:  27.08\n",
            " Weigth:1.52 Cost:  6.77\n",
            " Weigth:2.24 Cost:  1.69\n",
            " Weigth:1.88 Cost:  0.42\n",
            " Weigth:2.06 Cost:  0.11\n",
            " Weigth:1.97 Cost:  0.03\n",
            " Weigth:2.01 Cost:  0.01\n",
            " Weigth:1.99 Cost:  0.00\n",
            " Weigth:2.00 Cost:  0.00\n",
            " Weigth:2.00 Cost:  0.00\n",
            " Weigth:2.00 Cost:  0.00\n",
            " Weigth:2.00 Cost:  0.00\n",
            " Weigth:2.00 Cost:  0.00\n",
            " Weigth:2.00 Cost:  0.00\n",
            " Weigth:2.00 Cost:  0.00\n",
            " Weigth:2.00 Cost:  0.00\n",
            " Weigth:2.00 Cost:  0.00\n",
            " Weigth:2.00 Cost:  0.00\n",
            " Weigth:2.00 Cost:  0.00\n",
            " Weigth:2.00 Cost:  0.00\n",
            " Weigth:2.00 Cost:  0.00\n",
            " Weigth:2.00 Cost:  0.00\n",
            " Weigth:2.00 Cost:  0.00\n",
            " Weigth:2.00 Cost:  0.00\n",
            " Weigth:2.00 Cost:  0.00\n",
            " Weigth:2.00 Cost:  0.00\n",
            " Weigth:2.00 Cost:  0.00\n",
            " Weigth:2.00 Cost:  0.00\n",
            " Weigth:2.00 Cost:  0.00\n",
            " Weigth:2.00 Cost:  0.00\n"
          ]
        }
      ],
      "source": [
        "inputs=[1,2,3,4]\n",
        "targets=[2,4,6,8]\n",
        "w=0.1\n",
        "epoach= 30\n",
        "learnig_rate=0.1\n",
        "\n",
        "def predict(i):\n",
        "  return w*i\n",
        "\n",
        "for _ in range(epoach):\n",
        "  pred=[predict(i)for i in inputs]\n",
        "  errors=[(p-t)**2 for p, t in zip(pred,targets)]\n",
        "  cost=sum (errors)/len(targets)\n",
        "  errors_d=[2*(p-t) for p, t in zip(pred,targets)]\n",
        "  weight_d=[e*i for e, i in zip(errors_d,inputs)]\n",
        "  w-=learnig_rate*sum(weight_d)/len(weight_d)\n",
        "\n",
        "\n",
        "  print(f\" Weigth:{w:.2f} Cost:  {cost:.2f}\")\n",
        "\n"
      ]
    }
  ]
}